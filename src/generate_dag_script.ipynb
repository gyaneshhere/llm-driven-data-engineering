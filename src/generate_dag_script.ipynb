{
 "cells": [
  {
   "cell_type": "code",
   "execution_count": 12,
   "id": "468475f0",
   "metadata": {},
   "outputs": [],
   "source": [
    "import openai\n",
    "import os\n",
    "from util import get_api_key\n",
    "openai.api_key = get_api_key()"
   ]
  },
  {
   "cell_type": "code",
   "execution_count": 13,
   "id": "f25f1b22",
   "metadata": {},
   "outputs": [],
   "source": [
    "schema_files = os.listdir('../schemas')"
   ]
  },
  {
   "cell_type": "code",
   "execution_count": 14,
   "id": "5ee44310",
   "metadata": {},
   "outputs": [],
   "source": [
    "all_schemas = {}"
   ]
  },
  {
   "cell_type": "code",
   "execution_count": 15,
   "id": "ac9bc733",
   "metadata": {},
   "outputs": [],
   "source": [
    "for file in schema_files:\n",
    "    opened_file = open('../schemas/' + file, 'r')\n",
    "    all_schemas[file] = opened_file.read()"
   ]
  },
  {
   "cell_type": "code",
   "execution_count": 16,
   "id": "a9998860",
   "metadata": {},
   "outputs": [],
   "source": [
    "system_prompt = \"\"\"\n",
    "            You are a data engineer looking to generate an Airflow pipeline DAG skeleton \n",
    "            without the SQL details\n",
    "            \"\"\""
   ]
  },
  {
   "cell_type": "code",
   "execution_count": 17,
   "id": "363bcce1",
   "metadata": {},
   "outputs": [],
   "source": [
    "user_prompt = f\"\"\"\n",
    "                Generate a cumulative Airflow DAG that transforms \n",
    "                {all_schemas['player_seasons.sql']}\n",
    "                into {all_schemas['players.sql']}\n",
    "                use markdown for output and Postgres for queries\n",
    "                The DAG depends on last season data from players table \n",
    "                and the DAG depends on past is true\n",
    "                Make sure each run scans only one season and does a \n",
    "                FULL OUTER JOIN with the previous seasons data\n",
    "                Use the {{ ds }} airflow parameter to filter season \n",
    "                All create table statements should include IF NOT EXISTS\n",
    "            \"\"\""
   ]
  },
  {
   "cell_type": "code",
   "execution_count": 18,
   "id": "2e0d46c1",
   "metadata": {},
   "outputs": [
    {
     "name": "stdout",
     "output_type": "stream",
     "text": [
      "\n",
      "            You are a data engineer looking to generate an Airflow pipeline DAG skeleton \n",
      "            without the SQL details\n",
      "            \n",
      "\n",
      "                Generate a cumulative Airflow DAG that transforms \n",
      "                CREATE TABLE public.player_seasons (\n",
      "    player_name text NOT NULL,\n",
      "    age integer,\n",
      "    height text,\n",
      "    weight integer,\n",
      "    college text,\n",
      "    country text,\n",
      "    draft_year text,\n",
      "    draft_round text,\n",
      "    draft_number text,\n",
      "    gp real,\n",
      "    pts real,\n",
      "    reb real,\n",
      "    ast real,\n",
      "    netrtg real,\n",
      "    oreb_pct real,\n",
      "    dreb_pct real,\n",
      "    usg_pct real,\n",
      "    ts_pct real,\n",
      "    ast_pct real,\n",
      "    season integer NOT NULL\n",
      ");\n",
      "                into  CREATE TYPE season_stats AS (\n",
      "                         season Integer,\n",
      "                         pts REAL,\n",
      "                         ast REAL,\n",
      "                         reb REAL,\n",
      "                         weight INTEGER\n",
      "                       );\n",
      " CREATE TYPE scorer_class AS\n",
      "     ENUM ('bad', 'average', 'good', 'star');\n",
      "\n",
      "\n",
      " CREATE TABLE players (\n",
      "     player_name TEXT,\n",
      "     height TEXT,\n",
      "     college TEXT,\n",
      "     country TEXT,\n",
      "     draft_year TEXT,\n",
      "     draft_round TEXT,\n",
      "     draft_number TEXT,\n",
      "     seasons season_stats[],\n",
      "     scoring_class scorer_class,\n",
      "     is_active BOOLEAN,\n",
      "     current_season INTEGER,\n",
      "     PRIMARY KEY (player_name, current_season)\n",
      " );\n",
      "\n",
      "\n",
      "\n",
      "\n",
      "                use markdown for output and Postgres for queries\n",
      "                The DAG depends on last season data from players table \n",
      "                and the DAG depends on past is true\n",
      "                Make sure each run scans only one season and does a \n",
      "                FULL OUTER JOIN with the previous seasons data\n",
      "                Use the { ds } airflow parameter to filter season \n",
      "                All create table statements should include IF NOT EXISTS\n",
      "            \n"
     ]
    }
   ],
   "source": [
    "print(system_prompt)\n",
    "print(user_prompt)"
   ]
  },
  {
   "cell_type": "code",
   "execution_count": 19,
   "id": "dedb1870",
   "metadata": {},
   "outputs": [],
   "source": [
    "response = openai.chat.completions.create(\n",
    "    model=\"gpt-4\",\n",
    "    messages=[\n",
    "        {\"role\": \"system\", \"content\": system_prompt},\n",
    "        {\"role\": \"user\", \"content\": user_prompt}\n",
    "    ],\n",
    "    temperature=0\n",
    ")\n",
    "answer = response.choices[0].message.content"
   ]
  },
  {
   "cell_type": "code",
   "execution_count": 20,
   "id": "239f51be-96f5-4d3e-bb93-bf90275f98b4",
   "metadata": {},
   "outputs": [
    {
     "name": "stdout",
     "output_type": "stream",
     "text": [
      "Sure, here is a skeleton of an Airflow DAG that you can use as a starting point. Please note that this is a very basic skeleton and you will need to fill in the SQL details and other specifics according to your requirements.\n",
      "\n",
      "```python\n",
      "from airflow import DAG\n",
      "from airflow.operators.postgres_operator import PostgresOperator\n",
      "from datetime import datetime, timedelta\n",
      "\n",
      "default_args = {\n",
      "    'owner': 'airflow',\n",
      "    'depends_on_past': True,\n",
      "    'start_date': datetime(2021, 1, 1),\n",
      "    'email': ['your-email@example.com'],\n",
      "    'email_on_failure': False,\n",
      "    'email_on_retry': False,\n",
      "    'retries': 1,\n",
      "    'retry_delay': timedelta(minutes=5),\n",
      "}\n",
      "\n",
      "dag = DAG(\n",
      "    'transform_player_seasons', default_args=default_args, schedule_interval='@daily')\n",
      "\n",
      "t1 = PostgresOperator(\n",
      "    task_id='create_type_season_stats',\n",
      "    postgres_conn_id='your_connection_id',\n",
      "    sql=\"\"\"\n",
      "    CREATE TYPE IF NOT EXISTS season_stats AS (\n",
      "        season Integer,\n",
      "        pts REAL,\n",
      "        ast REAL,\n",
      "        reb REAL,\n",
      "        weight INTEGER\n",
      "    );\n",
      "    \"\"\",\n",
      "    dag=dag)\n",
      "\n",
      "t2 = PostgresOperator(\n",
      "    task_id='create_type_scorer_class',\n",
      "    postgres_conn_id='your_connection_id',\n",
      "    sql=\"\"\"\n",
      "    CREATE TYPE IF NOT EXISTS scorer_class AS\n",
      "        ENUM ('bad', 'average', 'good', 'star');\n",
      "    \"\"\",\n",
      "    dag=dag)\n",
      "\n",
      "t3 = PostgresOperator(\n",
      "    task_id='create_table_players',\n",
      "    postgres_conn_id='your_connection_id',\n",
      "    sql=\"\"\"\n",
      "    CREATE TABLE IF NOT EXISTS players (\n",
      "        player_name TEXT,\n",
      "        height TEXT,\n",
      "        college TEXT,\n",
      "        country TEXT,\n",
      "        draft_year TEXT,\n",
      "        draft_round TEXT,\n",
      "        draft_number TEXT,\n",
      "        seasons season_stats[],\n",
      "        scoring_class scorer_class,\n",
      "        is_active BOOLEAN,\n",
      "        current_season INTEGER,\n",
      "        PRIMARY KEY (player_name, current_season)\n",
      "    );\n",
      "    \"\"\",\n",
      "    dag=dag)\n",
      "\n",
      "t4 = PostgresOperator(\n",
      "    task_id='transform_data',\n",
      "    postgres_conn_id='your_connection_id',\n",
      "    sql=\"\"\"\n",
      "    -- Your SQL transformation query here\n",
      "    -- Make sure to use the { ds } parameter to filter the season\n",
      "    -- And do a FULL OUTER JOIN with the previous seasons data\n",
      "    \"\"\",\n",
      "    dag=dag)\n",
      "\n",
      "t1 >> t2 >> t3 >> t4\n",
      "```\n",
      "\n",
      "This DAG includes four tasks:\n",
      "\n",
      "1. `t1` creates the `season_stats` type if it doesn't exist.\n",
      "2. `t2` creates the `scorer_class` type if it doesn't exist.\n",
      "3. `t3` creates the `players` table if it doesn't exist.\n",
      "4. `t4` is where you should put your SQL transformation query. This task depends on the previous tasks, so it will only run after they have successfully completed.\n"
     ]
    }
   ],
   "source": [
    "print(answer)"
   ]
  },
  {
   "cell_type": "code",
   "execution_count": 21,
   "id": "7a5f8b62",
   "metadata": {},
   "outputs": [],
   "source": [
    "if not os.path.exists('output'):\n",
    "    os.mkdir('output')"
   ]
  },
  {
   "cell_type": "code",
   "execution_count": 22,
   "id": "c2e78c5b",
   "metadata": {},
   "outputs": [],
   "source": [
    "output = filter(lambda x: x.startswith('python'), answer.split('```'))\n",
    "# Open the file with write permissions\n",
    "with open('output/airflow_dag.py', 'w') as file:\n",
    "    # Write some data to the file\n",
    "    file.write('\\n'.join(output))"
   ]
  },
  {
   "cell_type": "code",
   "execution_count": null,
   "id": "c3693f8e",
   "metadata": {},
   "outputs": [],
   "source": []
  }
 ],
 "metadata": {
  "jupytext": {
   "cell_metadata_filter": "-all",
   "main_language": "python",
   "notebook_metadata_filter": "-all"
  },
  "kernelspec": {
   "display_name": "Python 3 (ipykernel)",
   "language": "python",
   "name": "python3"
  },
  "language_info": {
   "codemirror_mode": {
    "name": "ipython",
    "version": 3
   },
   "file_extension": ".py",
   "mimetype": "text/x-python",
   "name": "python",
   "nbconvert_exporter": "python",
   "pygments_lexer": "ipython3",
   "version": "3.12.4"
  }
 },
 "nbformat": 4,
 "nbformat_minor": 5
}
