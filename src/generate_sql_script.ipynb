{
 "cells": [
  {
   "cell_type": "code",
   "execution_count": 1,
   "id": "67288010",
   "metadata": {},
   "outputs": [],
   "source": [
    "import openai\n",
    "import os\n",
    "from util import get_api_key\n",
    "openai.api_key = get_api_key()"
   ]
  },
  {
   "cell_type": "code",
   "execution_count": 2,
   "id": "f5aa432c",
   "metadata": {},
   "outputs": [],
   "source": [
    "schema_files = os.listdir('../schemas')"
   ]
  },
  {
   "cell_type": "code",
   "execution_count": 3,
   "id": "436ea2f6",
   "metadata": {},
   "outputs": [],
   "source": [
    "all_schemas = {}"
   ]
  },
  {
   "cell_type": "code",
   "execution_count": 4,
   "id": "62d62794",
   "metadata": {},
   "outputs": [],
   "source": [
    "for file in schema_files:\n",
    "    opened_file = open('../schemas/' + file, 'r')\n",
    "    all_schemas[file] = opened_file.read()"
   ]
  },
  {
   "cell_type": "code",
   "execution_count": 5,
   "id": "4930bc12",
   "metadata": {},
   "outputs": [],
   "source": [
    "system_prompt = \"\"\"You are a data engineer looking to create a slowly-changing dimension table query\"\"\""
   ]
  },
  {
   "cell_type": "code",
   "execution_count": 6,
   "id": "1ce281ad",
   "metadata": {},
   "outputs": [],
   "source": [
    "user_prompt = f\"\"\"Using cumulative table input schema {all_schemas['players.sql']}\n",
    "                    and expected output schema {all_schemas['players_scd_table.sql']} \n",
    "                    generate a query to do a slowly-changing dimension \n",
    "                    transformation tracking changes on the dimensions is_active and scoring_class, \n",
    "                    use markdown and SQL for the transformation\n",
    "            \"\"\""
   ]
  },
  {
   "cell_type": "code",
   "execution_count": 7,
   "id": "31df03cd",
   "metadata": {},
   "outputs": [
    {
     "name": "stdout",
     "output_type": "stream",
     "text": [
      "You are a data engineer looking to create a slowly-changing dimension table query\n",
      "Using cumulative table input schema  CREATE TYPE season_stats AS (\n",
      "                         season Integer,\n",
      "                         pts REAL,\n",
      "                         ast REAL,\n",
      "                         reb REAL,\n",
      "                         weight INTEGER\n",
      "                       );\n",
      " CREATE TYPE scorer_class AS\n",
      "     ENUM ('bad', 'average', 'good', 'star');\n",
      "\n",
      "\n",
      " CREATE TABLE players (\n",
      "     player_name TEXT,\n",
      "     height TEXT,\n",
      "     college TEXT,\n",
      "     country TEXT,\n",
      "     draft_year TEXT,\n",
      "     draft_round TEXT,\n",
      "     draft_number TEXT,\n",
      "     seasons season_stats[],\n",
      "     scoring_class scorer_class,\n",
      "     is_active BOOLEAN,\n",
      "     current_season INTEGER,\n",
      "     PRIMARY KEY (player_name, current_season)\n",
      " );\n",
      "\n",
      "\n",
      "\n",
      "\n",
      "                    and expected output schema create table players_scd_table\n",
      "(\n",
      "\tplayer_name text,\n",
      "\tscoring_class scorer_class,\n",
      "\tis_active boolean,\n",
      "\tstart_date integer,\n",
      "\tend_date integer,\n",
      "\tis_current boolean\n",
      ");\n",
      "\n",
      " \n",
      "                    generate a query to do a slowly-changing dimension \n",
      "                    transformation tracking changes on the dimensions is_active and scoring_class, \n",
      "                    use markdown and SQL for the transformation\n",
      "            \n"
     ]
    }
   ],
   "source": [
    "print(system_prompt)\n",
    "print(user_prompt)"
   ]
  },
  {
   "cell_type": "code",
   "execution_count": 8,
   "id": "cd271fdc",
   "metadata": {
    "lines_to_next_cell": 2
   },
   "outputs": [
    {
     "name": "stdout",
     "output_type": "stream",
     "text": [
      "Here is a SQL query that can be used to create a slowly-changing dimension (SCD) table from the `players` table. This query tracks changes on the `is_active` and `scoring_class` dimensions. \n",
      "\n",
      "```sql\n",
      "WITH ranked_players AS (\n",
      "    SELECT \n",
      "        player_name,\n",
      "        scoring_class,\n",
      "        is_active,\n",
      "        current_season,\n",
      "        ROW_NUMBER() OVER (PARTITION BY player_name ORDER BY current_season) AS rn\n",
      "    FROM players\n",
      "),\n",
      "changes AS (\n",
      "    SELECT \n",
      "        rp1.player_name,\n",
      "        rp1.scoring_class,\n",
      "        rp1.is_active,\n",
      "        rp1.current_season AS start_date,\n",
      "        COALESCE(rp2.current_season - 1, -1) AS end_date,\n",
      "        CASE WHEN rp2.player_name IS NULL THEN TRUE ELSE FALSE END AS is_current\n",
      "    FROM ranked_players rp1\n",
      "    LEFT JOIN ranked_players rp2 ON rp1.player_name = rp2.player_name AND rp1.rn = rp2.rn - 1\n",
      "    WHERE rp1.scoring_class != COALESCE(rp2.scoring_class, rp1.scoring_class) OR rp1.is_active != COALESCE(rp2.is_active, rp1.is_active)\n",
      ")\n",
      "INSERT INTO players_scd_table (player_name, scoring_class, is_active, start_date, end_date, is_current)\n",
      "SELECT * FROM changes;\n",
      "```\n",
      "\n",
      "This query works by first ranking each player's seasons in ascending order. Then it compares each season to the next one for each player. If there is a change in either `scoring_class` or `is_active`, a new row is inserted into the `players_scd_table` with the start date of the change and the end date of the previous state. If there is no next season for a player (i.e., the player is currently in their last season), the `end_date` is set to -1 and `is_current` is set to TRUE.\n"
     ]
    }
   ],
   "source": [
    "response = openai.chat.completions.create(\n",
    "    model=\"gpt-4\",\n",
    "    messages=[\n",
    "        {\"role\": \"system\", \"content\": system_prompt},\n",
    "        {\"role\": \"user\", \"content\": user_prompt}\n",
    "    ],\n",
    "    temperature=0\n",
    ")\n",
    "print(response.choices[0].message.content)\n",
    "answer = response.choices[0].message.content"
   ]
  },
  {
   "cell_type": "code",
   "execution_count": 9,
   "id": "0bf1fbcd",
   "metadata": {},
   "outputs": [],
   "source": [
    "if not os.path.exists('output'):\n",
    "    os.mkdir('output')"
   ]
  },
  {
   "cell_type": "markdown",
   "id": "1fddc17c",
   "metadata": {},
   "source": [
    "```sql\n",
    "SELECT * FROM table\n",
    "```"
   ]
  },
  {
   "cell_type": "code",
   "execution_count": 10,
   "id": "e8752024",
   "metadata": {},
   "outputs": [],
   "source": [
    "output = filter(lambda x: x.startswith('sql'), answer.split('```'))\n",
    "# Open the file with write permissions\n",
    "with open('output/player_scd_generation.sql', 'w') as file:\n",
    "    # Write some data to the file\n",
    "    file.write('\\n'.join(output))"
   ]
  },
  {
   "cell_type": "code",
   "execution_count": null,
   "id": "4553eb21",
   "metadata": {},
   "outputs": [],
   "source": []
  }
 ],
 "metadata": {
  "jupytext": {
   "cell_metadata_filter": "-all",
   "main_language": "python",
   "notebook_metadata_filter": "-all"
  },
  "kernelspec": {
   "display_name": "Python 3 (ipykernel)",
   "language": "python",
   "name": "python3"
  },
  "language_info": {
   "codemirror_mode": {
    "name": "ipython",
    "version": 3
   },
   "file_extension": ".py",
   "mimetype": "text/x-python",
   "name": "python",
   "nbconvert_exporter": "python",
   "pygments_lexer": "ipython3",
   "version": "3.12.4"
  }
 },
 "nbformat": 4,
 "nbformat_minor": 5
}
