{
 "cells": [
  {
   "cell_type": "code",
   "execution_count": 1,
   "id": "73f4bcb8",
   "metadata": {},
   "outputs": [],
   "source": [
    "import openai\n",
    "import os\n",
    "from util import get_api_key\n",
    "openai.api_key = get_api_key()"
   ]
  },
  {
   "cell_type": "code",
   "execution_count": 2,
   "id": "5b6dd815",
   "metadata": {},
   "outputs": [],
   "source": [
    "schema_files = os.listdir('../schemas')"
   ]
  },
  {
   "cell_type": "code",
   "execution_count": 3,
   "id": "391f0ae8",
   "metadata": {},
   "outputs": [],
   "source": [
    "all_schemas = {}"
   ]
  },
  {
   "cell_type": "code",
   "execution_count": 4,
   "id": "6a74ed67",
   "metadata": {},
   "outputs": [],
   "source": [
    "for file in schema_files:\n",
    "    opened_file = open('../schemas/' + file, 'r')\n",
    "    all_schemas[file] = opened_file.read()"
   ]
  },
  {
   "cell_type": "code",
   "execution_count": 5,
   "id": "8496e3e3",
   "metadata": {},
   "outputs": [],
   "source": [
    "system_prompt = \"\"\"You are a data engineer looking to create documentation and example queries for your data sets\"\"\""
   ]
  },
  {
   "cell_type": "code",
   "execution_count": 6,
   "id": "e1b9023e",
   "metadata": {},
   "outputs": [],
   "source": [
    "user_prompt = f\"\"\"Using cumulative table input schema {all_schemas['players.sql']}\n",
    "                 Generate a pipeline documentation in markdown \n",
    "                    that shows how this is generated from \n",
    "                {all_schemas['player_seasons.sql']}\n",
    "                make sure to include example queries that use the season stats array\n",
    "                make sure to document all columns with column comments\n",
    "                make sure to document all created types as well\n",
    "            \"\"\""
   ]
  },
  {
   "cell_type": "code",
   "execution_count": 7,
   "id": "c37130ec",
   "metadata": {},
   "outputs": [
    {
     "name": "stdout",
     "output_type": "stream",
     "text": [
      "You are a data engineer looking to create documentation and example queries for your data sets\n",
      "Using cumulative table input schema  CREATE TYPE season_stats AS (\n",
      "                         season Integer,\n",
      "                         pts REAL,\n",
      "                         ast REAL,\n",
      "                         reb REAL,\n",
      "                         weight INTEGER\n",
      "                       );\n",
      " CREATE TYPE scorer_class AS\n",
      "     ENUM ('bad', 'average', 'good', 'star');\n",
      "\n",
      "\n",
      " CREATE TABLE players (\n",
      "     player_name TEXT,\n",
      "     height TEXT,\n",
      "     college TEXT,\n",
      "     country TEXT,\n",
      "     draft_year TEXT,\n",
      "     draft_round TEXT,\n",
      "     draft_number TEXT,\n",
      "     seasons season_stats[],\n",
      "     scoring_class scorer_class,\n",
      "     is_active BOOLEAN,\n",
      "     current_season INTEGER,\n",
      "     PRIMARY KEY (player_name, current_season)\n",
      " );\n",
      "\n",
      "\n",
      "\n",
      "\n",
      "                 Generate a pipeline documentation in markdown \n",
      "                    that shows how this is generated from \n",
      "                CREATE TABLE public.player_seasons (\n",
      "    player_name text NOT NULL,\n",
      "    age integer,\n",
      "    height text,\n",
      "    weight integer,\n",
      "    college text,\n",
      "    country text,\n",
      "    draft_year text,\n",
      "    draft_round text,\n",
      "    draft_number text,\n",
      "    gp real,\n",
      "    pts real,\n",
      "    reb real,\n",
      "    ast real,\n",
      "    netrtg real,\n",
      "    oreb_pct real,\n",
      "    dreb_pct real,\n",
      "    usg_pct real,\n",
      "    ts_pct real,\n",
      "    ast_pct real,\n",
      "    season integer NOT NULL\n",
      ");\n",
      "                make sure to include example queries that use the season stats array\n",
      "                make sure to document all columns with column comments\n",
      "                make sure to document all created types as well\n",
      "            \n"
     ]
    }
   ],
   "source": [
    "print(system_prompt)\n",
    "print(user_prompt)"
   ]
  },
  {
   "cell_type": "code",
   "execution_count": 8,
   "id": "462c9226",
   "metadata": {},
   "outputs": [],
   "source": [
    "response = openai.chat.completions.create(\n",
    "    model=\"gpt-4\",\n",
    "    messages=[\n",
    "        {\"role\": \"system\", \"content\": system_prompt},\n",
    "        {\"role\": \"user\", \"content\": user_prompt}\n",
    "    ],\n",
    "    temperature=0\n",
    ")\n",
    "answer = response.choices[0].message.content"
   ]
  },
  {
   "cell_type": "code",
   "execution_count": 9,
   "id": "be57e39f-e636-404b-af43-6c7d7d50f8c3",
   "metadata": {},
   "outputs": [
    {
     "name": "stdout",
     "output_type": "stream",
     "text": [
      "# Pipeline Documentation\n",
      "\n",
      "This pipeline is designed to transform data from the `public.player_seasons` table into the `players` table. The `players` table is a more complex structure that includes custom types and arrays to better organize and represent the data.\n",
      "\n",
      "## Source Table\n",
      "\n",
      "The source table `public.player_seasons` has the following schema:\n",
      "\n",
      "| Column Name | Data Type | Description |\n",
      "|-------------|-----------|-------------|\n",
      "| player_name | text | The name of the player |\n",
      "| age | integer | The age of the player |\n",
      "| height | text | The player's height |\n",
      "| weight | integer | The player's weight |\n",
      "| college | text | The college the player attended |\n",
      "| country | text | The country the player is from |\n",
      "| draft_year | text | The year the player was drafted |\n",
      "| draft_round | text | The round the player was drafted in |\n",
      "| draft_number | text | The number the player was drafted at |\n",
      "| gp | real | Games played by the player |\n",
      "| pts | real | Points scored by the player |\n",
      "| reb | real | Rebounds made by the player |\n",
      "| ast | real | Assists made by the player |\n",
      "| netrtg | real | Net rating of the player |\n",
      "| oreb_pct | real | Offensive rebound percentage of the player |\n",
      "| dreb_pct | real | Defensive rebound percentage of the player |\n",
      "| usg_pct | real | Usage percentage of the player |\n",
      "| ts_pct | real | True shooting percentage of the player |\n",
      "| ast_pct | real | Assist percentage of the player |\n",
      "| season | integer | The season the stats are from |\n",
      "\n",
      "## Destination Table\n",
      "\n",
      "The destination table `players` has the following schema:\n",
      "\n",
      "| Column Name | Data Type | Description |\n",
      "|-------------|-----------|-------------|\n",
      "| player_name | text | The name of the player |\n",
      "| height | text | The player's height |\n",
      "| college | text | The college the player attended |\n",
      "| country | text | The country the player is from |\n",
      "| draft_year | text | The year the player was drafted |\n",
      "| draft_round | text | The round the player was drafted in |\n",
      "| draft_number | text | The number the player was drafted at |\n",
      "| seasons | season_stats[] | An array of season stats for the player |\n",
      "| scoring_class | scorer_class | The scoring class of the player |\n",
      "| is_active | boolean | Whether the player is currently active |\n",
      "| current_season | integer | The current season for the player |\n",
      "\n",
      "## Custom Types\n",
      "\n",
      "The `players` table uses two custom types: `season_stats` and `scorer_class`.\n",
      "\n",
      "### season_stats\n",
      "\n",
      "This type represents a season's worth of stats for a player. It includes:\n",
      "\n",
      "- `season`: The season the stats are from\n",
      "- `pts`: Points scored by the player\n",
      "- `ast`: Assists made by the player\n",
      "- `reb`: Rebounds made by the player\n",
      "- `weight`: The player's weight\n",
      "\n",
      "### scorer_class\n",
      "\n",
      "This type is an enumeration representing the scoring class of a player. It can be one of the following values: 'bad', 'average', 'good', 'star'.\n",
      "\n",
      "## Example Queries\n",
      "\n",
      "Here are some example queries that use the `seasons` array:\n",
      "\n",
      "1. Get the points scored by a player in a specific season:\n",
      "\n",
      "```sql\n",
      "SELECT s.pts\n",
      "FROM players p, UNNEST(p.seasons) s\n",
      "WHERE p.player_name = 'Player Name' AND s.season = 2020;\n",
      "```\n",
      "\n",
      "2. Get the average points scored by a player across all seasons:\n",
      "\n",
      "```sql\n",
      "SELECT AVG(s.pts)\n",
      "FROM players p, UNNEST(p.seasons) s\n",
      "WHERE p.player_name = 'Player Name';\n",
      "```\n",
      "\n",
      "3. Get the total rebounds made by a player across all seasons:\n",
      "\n",
      "```sql\n",
      "SELECT SUM(s.reb)\n",
      "FROM players p, UNNEST(p.seasons) s\n",
      "WHERE p.player_name = 'Player Name';\n",
      "```\n",
      "\n",
      "4. Get the player's weight in a specific season:\n",
      "\n",
      "```sql\n",
      "SELECT s.weight\n",
      "FROM players p, UNNEST(p.seasons) s\n",
      "WHERE p.player_name = 'Player Name' AND s.season = 2020;\n",
      "```\n"
     ]
    }
   ],
   "source": [
    "print(answer)"
   ]
  },
  {
   "cell_type": "code",
   "execution_count": 10,
   "id": "82bd2d87",
   "metadata": {},
   "outputs": [],
   "source": [
    "if not os.path.exists('output'):\n",
    "    os.mkdir('output')\n",
    "# Open the file with write permissions\n",
    "with open('output/documentation.md', 'w') as file:\n",
    "    # Write some data to the file\n",
    "    file.write(answer)"
   ]
  },
  {
   "cell_type": "code",
   "execution_count": null,
   "id": "d8580680",
   "metadata": {},
   "outputs": [],
   "source": []
  }
 ],
 "metadata": {
  "jupytext": {
   "cell_metadata_filter": "-all",
   "main_language": "python",
   "notebook_metadata_filter": "-all"
  },
  "kernelspec": {
   "display_name": "Python 3 (ipykernel)",
   "language": "python",
   "name": "python3"
  },
  "language_info": {
   "codemirror_mode": {
    "name": "ipython",
    "version": 3
   },
   "file_extension": ".py",
   "mimetype": "text/x-python",
   "name": "python",
   "nbconvert_exporter": "python",
   "pygments_lexer": "ipython3",
   "version": "3.12.4"
  }
 },
 "nbformat": 4,
 "nbformat_minor": 5
}
